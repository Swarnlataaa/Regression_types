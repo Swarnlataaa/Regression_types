{
  "nbformat": 4,
  "nbformat_minor": 0,
  "metadata": {
    "colab": {
      "provenance": [],
      "authorship_tag": "ABX9TyNOi6af0LJ+5OHFC7eRyrR+",
      "include_colab_link": true
    },
    "kernelspec": {
      "name": "python3",
      "display_name": "Python 3"
    },
    "language_info": {
      "name": "python"
    }
  },
  "cells": [
    {
      "cell_type": "markdown",
      "metadata": {
        "id": "view-in-github",
        "colab_type": "text"
      },
      "source": [
        "<a href=\"https://colab.research.google.com/github/Swarnlataaa/Regression_types/blob/main/Hosing_price.ipynb\" target=\"_parent\"><img src=\"https://colab.research.google.com/assets/colab-badge.svg\" alt=\"Open In Colab\"/></a>"
      ]
    },
    {
      "cell_type": "code",
      "execution_count": null,
      "metadata": {
        "id": "kGjje2zwrd-n"
      },
      "outputs": [],
      "source": [
        "import pandas as pd\n",
        "import numpy as np\n",
        "import matplotlib.pyplot as plt\n",
        "from sklearn.model_selection import train_test_split\n",
        "from sklearn.linear_model import LinearRegression\n",
        "from sklearn.metrics import mean_squared_error, r2_score\n"
      ]
    },
    {
      "cell_type": "code",
      "source": [
        "# Load the dataset (you can replace this with your dataset)\n",
        "data_url = \"https://raw.githubusercontent.com/openai/gpt-3.5-turbo/master/examples/housing_prices.csv\"\n",
        "housing_data = pd.read_csv(data_url)\n",
        "\n",
        "# Explore the dataset\n",
        "print(housing_data.head())"
      ],
      "metadata": {
        "id": "qLh7OJ0-riAg"
      },
      "execution_count": null,
      "outputs": []
    },
    {
      "cell_type": "code",
      "source": [
        "# Select features (independent variables) and target (dependent variable)\n",
        "X = housing_data[['SquareFeet', 'NumBedrooms', 'NumBathrooms']]\n",
        "y = housing_data['Price']\n",
        "\n",
        "# Split the dataset into training and testing sets\n",
        "X_train, X_test, y_train, y_test = train_test_split(X, y, test_size=0.2, random_state=42)\n",
        "\n",
        "# Create a Linear Regression model\n",
        "model = LinearRegression()\n"
      ],
      "metadata": {
        "id": "GVaAvk6DrifO"
      },
      "execution_count": null,
      "outputs": []
    },
    {
      "cell_type": "code",
      "source": [
        "# Fit the model to the training data\n",
        "model.fit(X_train, y_train)\n",
        "\n",
        "# Make predictions on the test data\n",
        "y_pred = model.predict(X_test)\n",
        "\n",
        "# Evaluate the model's performance\n",
        "mse = mean_squared_error(y_test, y_pred)\n",
        "r2 = r2_score(y_test, y_pred)\n"
      ],
      "metadata": {
        "id": "q32bbi9Nrk66"
      },
      "execution_count": null,
      "outputs": []
    },
    {
      "cell_type": "code",
      "source": [
        "print(\"Mean Squared Error:\", mse)\n",
        "print(\"R-squared:\", r2)\n",
        "\n",
        "# Visualize the results (for one of the features)\n",
        "plt.scatter(X_test['SquareFeet'], y_test, color='blue', label='Actual Prices')\n",
        "plt.scatter(X_test['SquareFeet'], y_pred, color='red', label='Predicted Prices')\n",
        "plt.xlabel('Square Feet')\n",
        "plt.ylabel('Price')\n",
        "plt.title('Actual vs. Predicted Housing Prices')\n",
        "plt.legend()\n",
        "plt.show()"
      ],
      "metadata": {
        "id": "vd7tTKe_rnHB"
      },
      "execution_count": null,
      "outputs": []
    }
  ]
}