{
  "nbformat": 4,
  "nbformat_minor": 0,
  "metadata": {
    "colab": {
      "provenance": [],
      "authorship_tag": "ABX9TyP4xZ0QMEpl6I49Q6vVo8Q7",
      "include_colab_link": true
    },
    "kernelspec": {
      "name": "python3",
      "display_name": "Python 3"
    },
    "language_info": {
      "name": "python"
    }
  },
  "cells": [
    {
      "cell_type": "markdown",
      "metadata": {
        "id": "view-in-github",
        "colab_type": "text"
      },
      "source": [
        "<a href=\"https://colab.research.google.com/github/Swarnlataaa/Regression_types/blob/main/Regression.ipynb\" target=\"_parent\"><img src=\"https://colab.research.google.com/assets/colab-badge.svg\" alt=\"Open In Colab\"/></a>"
      ]
    },
    {
      "cell_type": "code",
      "execution_count": null,
      "metadata": {
        "id": "ZzwboVJ5qlb5"
      },
      "outputs": [],
      "source": [
        "# Import necessary libraries\n",
        "import numpy as np\n",
        "import matplotlib.pyplot as plt\n",
        "from sklearn.linear_model import LinearRegression, Ridge, Lasso\n",
        "from sklearn.preprocessing import PolynomialFeatures\n",
        "from sklearn.svm import SVR\n",
        "from sklearn.tree import DecisionTreeRegressor\n",
        "from sklearn.ensemble import RandomForestRegressor\n",
        "from sklearn.neighbors import KNeighborsRegressor\n"
      ]
    },
    {
      "cell_type": "code",
      "source": [
        "# Generate some example data\n",
        "X = np.array([1, 2, 3, 4, 5]).reshape(-1, 1)\n",
        "y = np.array([2, 4, 5, 4, 5])"
      ],
      "metadata": {
        "id": "Vs3IDstBqt8J"
      },
      "execution_count": null,
      "outputs": []
    },
    {
      "cell_type": "code",
      "source": [
        "# Create models and fit them to the data\n",
        "\n",
        "# Simple Linear Regression\n",
        "model_linear = LinearRegression()\n",
        "model_linear.fit(X, y)\n",
        "\n",
        "# Ridge Regression\n",
        "model_ridge = Ridge(alpha=1.0)\n",
        "model_ridge.fit(X, y)\n",
        "\n",
        "# Lasso Regression\n",
        "model_lasso = Lasso(alpha=1.0)\n",
        "model_lasso.fit(X, y)\n"
      ],
      "metadata": {
        "id": "eRWeYDgLq2Gr"
      },
      "execution_count": null,
      "outputs": []
    },
    {
      "cell_type": "code",
      "source": [
        "# Polynomial Regression\n",
        "poly_features = PolynomialFeatures(degree=2)\n",
        "X_poly = poly_features.fit_transform(X)\n",
        "model_poly = LinearRegression()\n",
        "model_poly.fit(X_poly, y)\n",
        "\n",
        "# Support Vector Regression (SVR)\n",
        "model_svr = SVR(kernel='linear', C=1.0)\n",
        "model_svr.fit(X, y)\n",
        "\n",
        "# Decision Tree Regression\n",
        "model_tree = DecisionTreeRegressor(max_depth=3)\n",
        "model_tree.fit(X, y)\n",
        "\n",
        "# Random Forest Regression\n",
        "model_rf = RandomForestRegressor(n_estimators=100, random_state=0)\n",
        "model_rf.fit(X, y)\n"
      ],
      "metadata": {
        "id": "OYqd81owq6tA"
      },
      "execution_count": null,
      "outputs": []
    },
    {
      "cell_type": "code",
      "source": [
        "# K-Nearest Neighbors (KNN) Regression\n",
        "model_knn = KNeighborsRegressor(n_neighbors=3)\n",
        "model_knn.fit(X, y)\n",
        "\n",
        "# Predict values for new data points\n",
        "X_new = np.array([6, 7]).reshape(-1, 1)"
      ],
      "metadata": {
        "id": "yK-bA1GVq7ah"
      },
      "execution_count": null,
      "outputs": []
    },
    {
      "cell_type": "code",
      "source": [
        "# Plot the data and regression lines\n",
        "plt.scatter(X, y, label='Actual Data')\n",
        "plt.plot(X, model_linear.predict(X), label='Linear Regression', color='red')\n",
        "plt.plot(X, model_ridge.predict(X), label='Ridge Regression', color='blue')\n",
        "plt.plot(X, model_lasso.predict(X), label='Lasso Regression', color='green')\n",
        "plt.plot(X, model_poly.predict(poly_features.transform(X)), label='Polynomial Regression', color='purple')\n",
        "plt.plot(X, model_svr.predict(X), label='SVR', color='orange')\n",
        "plt.plot(X, model_tree.predict(X), label='Decision Tree Regression', color='brown')\n",
        "plt.plot(X, model_rf.predict(X), label='Random Forest Regression', color='pink')\n",
        "plt.plot(X, model_knn.predict(X), label='KNN Regression', color='cyan')\n"
      ],
      "metadata": {
        "id": "n8yRjG4yrA8n"
      },
      "execution_count": null,
      "outputs": []
    },
    {
      "cell_type": "code",
      "source": [
        "# Predict and plot values for new data points\n",
        "plt.scatter(X_new, model_linear.predict(X_new), color='red', marker='o', label='Predicted (Linear)')\n",
        "plt.scatter(X_new, model_ridge.predict(X_new), color='blue', marker='o', label='Predicted (Ridge)')\n",
        "plt.scatter(X_new, model_lasso.predict(X_new), color='green', marker='o', label='Predicted (Lasso)')\n",
        "plt.scatter(X_new, model_poly.predict(poly_features.transform(X_new)), color='purple', marker='o', label='Predicted (Poly)')\n",
        "plt.scatter(X_new, model_svr.predict(X_new), color='orange', marker='o', label='Predicted (SVR)')\n",
        "plt.scatter(X_new, model_tree.predict(X_new), color='brown', marker='o', label='Predicted (DT)')\n",
        "plt.scatter(X_new, model_rf.predict(X_new), color='pink', marker='o', label='Predicted (RF)')\n",
        "plt.scatter(X_new, model_knn.predict(X_new), color='cyan', marker='o', label='Predicted (KNN)')"
      ],
      "metadata": {
        "id": "WbzNqBXgrBb4"
      },
      "execution_count": null,
      "outputs": []
    },
    {
      "cell_type": "code",
      "source": [
        "plt.xlabel('Independent Variable (X)')\n",
        "plt.ylabel('Dependent Variable (y)')\n",
        "plt.legend()\n",
        "plt.show()"
      ],
      "metadata": {
        "id": "pFL1UEGVrFrm"
      },
      "execution_count": null,
      "outputs": []
    }
  ]
}